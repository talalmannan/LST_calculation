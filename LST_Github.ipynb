{
 "cells": [
  {
   "attachments": {},
   "cell_type": "markdown",
   "metadata": {},
   "source": [
    "Import all the required libraries"
   ]
  },
  {
   "cell_type": "code",
   "execution_count": null,
   "metadata": {},
   "outputs": [],
   "source": [
    "# Import the necessary libraries\n",
    "import ee\n",
    "import pandas as pd\n",
    "import geemap"
   ]
  },
  {
   "attachments": {},
   "cell_type": "markdown",
   "metadata": {},
   "source": [
    "Initialize and authenticate Google Earth Engine API"
   ]
  },
  {
   "cell_type": "code",
   "execution_count": null,
   "metadata": {},
   "outputs": [],
   "source": [
    "# Initialize and Authenticate Google Earth Engine API\n",
    "try:\n",
    "    ee.Initialize()\n",
    "except Exception as e:\n",
    "    ee.Authenticate()\n",
    "    ee.Initialize()"
   ]
  },
  {
   "attachments": {},
   "cell_type": "markdown",
   "metadata": {},
   "source": [
    "Define the region of interest using the drawing tool"
   ]
  },
  {
   "cell_type": "code",
   "execution_count": null,
   "metadata": {},
   "outputs": [],
   "source": [
    "# Create a basemap for interactive mapping\n",
    "Map = geemap.Map(center=[31.511122, 74.35684], zoom=9)\n",
    "Map"
   ]
  },
  {
   "attachments": {},
   "cell_type": "markdown",
   "metadata": {},
   "source": [
    "Load the shapefile and convert it to an Earth Engine feature collection"
   ]
  },
  {
   "cell_type": "code",
   "execution_count": null,
   "metadata": {},
   "outputs": [],
   "source": [
    "# Defining the Region of Interest using the drawing tool\n",
    "area = ee.FeatureCollection(Map.draw_last_feature)\n",
    "roi = ee.Geometry.Point([73.996, 31.725])\n",
    "geometry = geemap.shp_to_ee('/path/to/Your_Shapefile.shp')"
   ]
  },
  {
   "attachments": {},
   "cell_type": "markdown",
   "metadata": {},
   "source": [
    "Filtering Image Collection and Clipping to ROI"
   ]
  },
  {
   "cell_type": "code",
   "execution_count": null,
   "metadata": {},
   "outputs": [],
   "source": [
    "# Filtering the Image Collection according to our Region of Interest\n",
    "L8 = ee.ImageCollection(\"LANDSAT/LC08/C01/T1_TOA\")\n",
    "filtered = ee.Image(L8.filterDate('2015-01-01', '2015-12-31')\n",
    "            .filterBounds(roi)\n",
    "            .sort('CLOUD_COVER'))\n",
    "            \n",
    "filtered_image = filtered.clip(geometry)\n",
    "RGB_VIS = {'min': 0, 'max': 1, 'bands': ['B4', 'B3', 'B2']}\n",
    "Map.addLayer(filtered_image, RGB_VIS, 'True Color')"
   ]
  },
  {
   "attachments": {},
   "cell_type": "markdown",
   "metadata": {},
   "source": [
    "Calculating Normalized Difference Vegetation Index (NDVI)"
   ]
  },
  {
   "cell_type": "code",
   "execution_count": null,
   "metadata": {},
   "outputs": [],
   "source": [
    "####### Calculating NDVI\n",
    "NDVI_VIS = {'min': 0, 'max': 1, 'pallete': ['e74c3c', 'f1948a', 'f7dc6f', 'abebc6', '117a65']}\n",
    "\n",
    "# Calculating NDVI\n",
    "nir = filtered_image.select('B5')\n",
    "red = filtered_image.select('B4')\n",
    "NDVI = (nir.subtract(red).divide(nir.add(red)))\n",
    "\n",
    "#### Adding NDVI layer on the interactive map\n",
    "Map.addLayer(NDVI, NDVI_VIS, 'NDVI')"
   ]
  },
  {
   "attachments": {},
   "cell_type": "markdown",
   "metadata": {},
   "source": [
    "Function to Calculate LST"
   ]
  },
  {
   "cell_type": "code",
   "execution_count": null,
   "metadata": {},
   "outputs": [],
   "source": [
    "def process_image(image):\n",
    "    \"\"\"\n",
    "    Processes a Landsat 8 image and adds a band for land surface temperature (LST).\n",
    "    \n",
    "    Parameters:\n",
    "    image (ee.Image): A Landsat 8 image.\n",
    "    \n",
    "    Returns:\n",
    "    ee.Image: The input image with an added LST band.\n",
    "    \"\"\"\n",
    "    # Calculate Top of Atmosphere Radiance\n",
    "    toa = image.expression(\n",
    "        '0.00033420 * therm_band + 0.1000 - 0.29',\n",
    "        {'therm_band': image.select('B10')}\n",
    "    )\n",
    "\n",
    "    # Calculate Brightness Temperature\n",
    "    bt = image.expression(\n",
    "        '1321.0789 / log(774.8853 / radiance + 1) - 273.15',\n",
    "        {'radiance': toa}\n",
    "    )\n",
    "\n",
    "    # Calculate NDVI\n",
    "    ndvi = image.expression(\n",
    "        '(band5 - band4) / (band5 + band4)',\n",
    "        {'band5': image.select('B5'), 'band4': image.select('B4')}\n",
    "    ).rename('NDVI')\n",
    "\n",
    "    # Calculate the Minimum NDVI for the Region\n",
    "    min_ndvi = (\n",
    "        ndvi.reduceRegion(\n",
    "            reducer=ee.Reducer.min(),\n",
    "            geometry=geometry,\n",
    "            scale=30,\n",
    "            maxPixels=1e13\n",
    "        )\n",
    "        .get('NDVI')\n",
    "    )\n",
    "\n",
    "    # Calculate the Maximum NDVI for the Region\n",
    "    max_ndvi = (\n",
    "        ndvi.reduceRegion(\n",
    "            reducer=ee.Reducer.max(),\n",
    "            geometry=geometry,\n",
    "            scale=30,\n",
    "            maxPixels=1e13\n",
    "        )\n",
    "        .get('NDVI')\n",
    "    )\n",
    "\n",
    "    # Calculate Proportion of Vegetation\n",
    "    pv = (\n",
    "        (ndvi - min_ndvi) / (max_ndvi - min_ndvi)\n",
    "    ).pow(ee.Number(2)).rename('PV')\n",
    "\n",
    "    # Calculate Land surface Emissivity\n",
    "    a = ee.Number(0.004)\n",
    "    b = ee.Number(0.986)\n",
    "    em = (pv * a + b).rename('LSE')\n",
    "\n",
    "    # Calculate land surface temperature\n",
    "    lst = image.expression(\n",
    "    '(Tb/(1 + (0.00115* (Tb / 14380))*log(EM))) -273.15', {\n",
    "    'Tb': image.select('B10'),\n",
    "    'EM': em.select('LSE')\n",
    "    }).rename('LST')\n",
    "\n",
    "  # Return the image with the temperature band added\n",
    "    return image.addBands(lst)\n",
    "\n",
    "lst = process_image(imag)\n",
    "final_lst = lst.select('LST').getInfo()\n",
    "LST_VIS = {'min': 10, 'max': 60, 'pallete': ['e74c3c', 'f1948a', 'f7dc6f', 'abebc6', '117a65']}\n",
    "Map.addLayer(lst, LST_VIS, 'LST')\n"
   ]
  }
 ],
 "metadata": {
  "kernelspec": {
   "display_name": "gee",
   "language": "python",
   "name": "python3"
  },
  "language_info": {
   "codemirror_mode": {
    "name": "ipython",
    "version": 3
   },
   "file_extension": ".py",
   "mimetype": "text/x-python",
   "name": "python",
   "nbconvert_exporter": "python",
   "pygments_lexer": "ipython3",
   "version": "3.9.15"
  },
  "orig_nbformat": 4,
  "vscode": {
   "interpreter": {
    "hash": "d9fa84e13f8e988383ddc0f5d98b6b543bca45a9ab755e2b2841a46ad9433ff5"
   }
  }
 },
 "nbformat": 4,
 "nbformat_minor": 2
}
